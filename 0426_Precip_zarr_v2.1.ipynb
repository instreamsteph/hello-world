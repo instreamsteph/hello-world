{
 "cells": [
  {
   "cell_type": "code",
   "execution_count": 2,
   "metadata": {},
   "outputs": [
    {
     "name": "stderr",
     "output_type": "stream",
     "text": [
      "C:\\Users\\ahmed\\AppData\\Local\\Continuum\\anaconda3\\lib\\site-packages\\xarray\\core\\merge.py:10: FutureWarning: The Panel class is removed from pandas. Accessing it from the top-level namespace will also be removed in the next version\n",
      "  PANDAS_TYPES = (pd.Series, pd.DataFrame, pd.Panel)\n"
     ]
    }
   ],
   "source": [
    "import xarray as xr\n",
    "import fsspec\n",
    "import numpy as np\n",
    "import pandas as pd\n",
    "import matplotlib.pyplot as plt\n",
    "from dask.distributed import Client, progress\n",
    "from pathlib import Path "
   ]
  },
  {
   "cell_type": "code",
   "execution_count": 3,
   "metadata": {},
   "outputs": [
    {
     "data": {
      "text/html": [
       "<table style=\"border: 2px solid white;\">\n",
       "<tr>\n",
       "<td style=\"vertical-align: top; border: 0px solid white\">\n",
       "<h3 style=\"text-align: left;\">Client</h3>\n",
       "<ul style=\"text-align: left; list-style: none; margin: 0; padding: 0;\">\n",
       "  <li><b>Scheduler: </b>tcp://127.0.0.1:50558</li>\n",
       "  <li><b>Dashboard: </b><a href='http://127.0.0.1:8787/status' target='_blank'>http://127.0.0.1:8787/status</a>\n",
       "</ul>\n",
       "</td>\n",
       "<td style=\"vertical-align: top; border: 0px solid white\">\n",
       "<h3 style=\"text-align: left;\">Cluster</h3>\n",
       "<ul style=\"text-align: left; list-style:none; margin: 0; padding: 0;\">\n",
       "  <li><b>Workers: </b>4</li>\n",
       "  <li><b>Cores: </b>8</li>\n",
       "  <li><b>Memory: </b>17.06 GB</li>\n",
       "</ul>\n",
       "</td>\n",
       "</tr>\n",
       "</table>"
      ],
      "text/plain": [
       "<Client: 'tcp://127.0.0.1:50558' processes=4 threads=8, memory=17.06 GB>"
      ]
     },
     "execution_count": 3,
     "metadata": {},
     "output_type": "execute_result"
    }
   ],
   "source": [
    "client = Client()\n",
    "client"
   ]
  },
  {
   "cell_type": "code",
   "execution_count": 4,
   "metadata": {},
   "outputs": [],
   "source": [
    "url = 's3://noaa-nwm-retrospective-2-1-zarr-pds/precip.zarr'"
   ]
  },
  {
   "cell_type": "code",
   "execution_count": 5,
   "metadata": {},
   "outputs": [
    {
     "name": "stdout",
     "output_type": "stream",
     "text": [
      "Wall time: 10.6 s\n"
     ]
    }
   ],
   "source": [
    "%%time\n",
    "ds = xr.open_zarr(fsspec.get_mapper(url, anon=True), consolidated=True)"
   ]
  },
  {
   "cell_type": "code",
   "execution_count": 6,
   "metadata": {},
   "outputs": [
    {
     "data": {
      "text/plain": [
       "<xarray.Dataset>\n",
       "Dimensions:   (time: 367440, x: 4608, y: 3840)\n",
       "Coordinates:\n",
       "  * time      (time) datetime64[ns] 1979-02-01 ... 2020-12-31T23:00:00\n",
       "  * x         (x) float64 -2.303e+06 -2.302e+06 ... 2.303e+06 2.304e+06\n",
       "  * y         (y) float64 -1.92e+06 -1.919e+06 ... 1.918e+06 1.919e+06\n",
       "Data variables:\n",
       "    RAINRATE  (time, y, x) float32 dask.array<shape=(367440, 3840, 4608), chunksize=(672, 350, 350)>\n",
       "    crs       |S1 ...\n",
       "Attributes:\n",
       "    NWM_version_number:   v2.1\n",
       "    model_configuration:  AORC\n",
       "    model_output_type:    forcing"
      ]
     },
     "execution_count": 6,
     "metadata": {},
     "output_type": "execute_result"
    }
   ],
   "source": [
    "ds"
   ]
  },
  {
   "cell_type": "code",
   "execution_count": 7,
   "metadata": {},
   "outputs": [
    {
     "data": {
      "text/plain": [
       "<xarray.DataArray 'RAINRATE' (time: 367440, y: 3840, x: 4608)>\n",
       "dask.array<shape=(367440, 3840, 4608), dtype=float32, chunksize=(672, 350, 350)>\n",
       "Coordinates:\n",
       "  * time     (time) datetime64[ns] 1979-02-01 ... 2020-12-31T23:00:00\n",
       "  * x        (x) float64 -2.303e+06 -2.302e+06 ... 2.303e+06 2.304e+06\n",
       "  * y        (y) float64 -1.92e+06 -1.919e+06 -1.918e+06 ... 1.918e+06 1.919e+06\n",
       "Attributes:\n",
       "    cell_methods:    time: mean\n",
       "    esri_pe_string:  PROJCS[\"Lambert_Conformal_Conic\",GEOGCS[\"GCS_Sphere\",DAT...\n",
       "    grid_mapping:    crs\n",
       "    long_name:       Surface Precipitation Rate\n",
       "    proj4:           +proj=lcc +units=m +a=6370000.0 +b=6370000.0 +lat_1=30.0...\n",
       "    remap:           remapped via ESMF regrid_with_weights: Bilinear\n",
       "    standard_name:   precipitation_flux\n",
       "    units:           mm s^-1"
      ]
     },
     "execution_count": 7,
     "metadata": {},
     "output_type": "execute_result"
    }
   ],
   "source": [
    "ds.RAINRATE\n"
   ]
  },
  {
   "cell_type": "code",
   "execution_count": 17,
   "metadata": {},
   "outputs": [
    {
     "data": {
      "text/plain": [
       "'PROJCS[\"Lambert_Conformal_Conic\",GEOGCS[\"GCS_Sphere\",DATUM[\"D_Sphere\",SPHEROID[\"Sphere\",6370000.0,0.0]],PRIMEM[\"Greenwich\",0.0],UNIT[\"Degree\",0.0174532925199433]],PROJECTION[\"Lambert_Conformal_Conic_2SP\"],PARAMETER[\"false_easting\",0.0],PARAMETER[\"false_northing\",0.0],PARAMETER[\"central_meridian\",-97.0],PARAMETER[\"standard_parallel_1\",30.0],PARAMETER[\"standard_parallel_2\",60.0],PARAMETER[\"latitude_of_origin\",40.0],UNIT[\"Meter\",1.0]];-35691800 -29075200 10000;-100000 10000;-100000 10000;0.001;0.001;0.001;IsHighPrecision'"
      ]
     },
     "execution_count": 17,
     "metadata": {},
     "output_type": "execute_result"
    }
   ],
   "source": [
    "ds.RAINRATE.esri_pe_string"
   ]
  },
  {
   "cell_type": "code",
   "execution_count": 18,
   "metadata": {},
   "outputs": [],
   "source": [
    "## input the coordinates {y1:x1, y2:x2} or {lat1:long1, lat2:long2} format\n",
    "Coordinates = {-1131207.186: 166599.7097} # Hobby Airport\n",
    "##Coordinates = {-1115315.2193: 81203.1552,-1115178.9781: 73202.0731,-1114745.2073: 85011.1184,-1114823.3322: 77198.5283,-1110537.0666: 81155.3195,-1110497.0396: 85059.5592,-1110576.9827: 77065.1435,-1110111.0867: 69474.9337,-1110093.8945: 92771.3761,-1110030.4448: 88959.1182,-1110080.6105: 73341.9814,-1106436.4457: 77025.7806,-1106289.4588: 81205.7142,-1106220.0463: 65409.2229,-1105896.1206: 88356.2480,-1105632.8797: 92906.1487,-1105722.5089: 84730.7200,-1105731.1558: 72930.9845,-1102110.4083: 84971.5581,-1101497.2647: 92487.2548,-1100795.8328: 88764.9134}"
   ]
  },
  {
   "cell_type": "code",
   "execution_count": 19,
   "metadata": {
    "scrolled": true
   },
   "outputs": [
    {
     "name": "stderr",
     "output_type": "stream",
     "text": [
      "C:\\Users\\ahmed\\AppData\\Local\\Continuum\\anaconda3\\lib\\site-packages\\xarray\\core\\dataarray.py:1619: FutureWarning: The Panel class is removed from pandas. Accessing it from the top-level namespace will also be removed in the next version\n",
      "  3: pd.Panel}\n"
     ]
    }
   ],
   "source": [
    "\n",
    "t=0\n",
    "header = ''\n",
    "for k, v in Coordinates.items():\n",
    "    cord = str(k) + ',' + str(v)\n",
    "    if (t==0):\n",
    "        a = ds.RAINRATE.sel(y = k, x= v, method=\"nearest\" )\n",
    "        df = a.to_pandas()\n",
    "        df =df.to_frame()\n",
    "        df.rename(columns={0: cord}, inplace=True)\n",
    "        \n",
    "    else:\n",
    "        a1 = ds.RAINRATE.sel(y = k, x= v, method=\"nearest\" )\n",
    "        df1 = a1.to_pandas()\n",
    "        df1 =df1.to_frame()\n",
    "        df1.rename(columns={0: cord}, inplace=True)\n",
    "        \n",
    "        df= pd.merge(df, df1, suffixes=(False, False), left_index=True, right_index=True )\n",
    "    t+=1\n",
    "    "
   ]
  },
  {
   "cell_type": "code",
   "execution_count": 20,
   "metadata": {},
   "outputs": [
    {
     "data": {
      "text/html": [
       "<div>\n",
       "<style scoped>\n",
       "    .dataframe tbody tr th:only-of-type {\n",
       "        vertical-align: middle;\n",
       "    }\n",
       "\n",
       "    .dataframe tbody tr th {\n",
       "        vertical-align: top;\n",
       "    }\n",
       "\n",
       "    .dataframe thead th {\n",
       "        text-align: right;\n",
       "    }\n",
       "</style>\n",
       "<table border=\"1\" class=\"dataframe\">\n",
       "  <thead>\n",
       "    <tr style=\"text-align: right;\">\n",
       "      <th></th>\n",
       "      <th>-1131207.186,166599.7097</th>\n",
       "    </tr>\n",
       "    <tr>\n",
       "      <th>time</th>\n",
       "      <th></th>\n",
       "    </tr>\n",
       "  </thead>\n",
       "  <tbody>\n",
       "    <tr>\n",
       "      <td>1979-02-01 00:00:00</td>\n",
       "      <td>0.000000</td>\n",
       "    </tr>\n",
       "    <tr>\n",
       "      <td>1979-02-01 01:00:00</td>\n",
       "      <td>0.000000</td>\n",
       "    </tr>\n",
       "    <tr>\n",
       "      <td>1979-02-01 02:00:00</td>\n",
       "      <td>0.000000</td>\n",
       "    </tr>\n",
       "    <tr>\n",
       "      <td>1979-02-01 03:00:00</td>\n",
       "      <td>0.000000</td>\n",
       "    </tr>\n",
       "    <tr>\n",
       "      <td>1979-02-01 04:00:00</td>\n",
       "      <td>0.000000</td>\n",
       "    </tr>\n",
       "    <tr>\n",
       "      <td>...</td>\n",
       "      <td>...</td>\n",
       "    </tr>\n",
       "    <tr>\n",
       "      <td>2020-12-31 19:00:00</td>\n",
       "      <td>0.000333</td>\n",
       "    </tr>\n",
       "    <tr>\n",
       "      <td>2020-12-31 20:00:00</td>\n",
       "      <td>0.000389</td>\n",
       "    </tr>\n",
       "    <tr>\n",
       "      <td>2020-12-31 21:00:00</td>\n",
       "      <td>0.000194</td>\n",
       "    </tr>\n",
       "    <tr>\n",
       "      <td>2020-12-31 22:00:00</td>\n",
       "      <td>0.000056</td>\n",
       "    </tr>\n",
       "    <tr>\n",
       "      <td>2020-12-31 23:00:00</td>\n",
       "      <td>0.000000</td>\n",
       "    </tr>\n",
       "  </tbody>\n",
       "</table>\n",
       "<p>367440 rows × 1 columns</p>\n",
       "</div>"
      ],
      "text/plain": [
       "                     -1131207.186,166599.7097\n",
       "time                                         \n",
       "1979-02-01 00:00:00                  0.000000\n",
       "1979-02-01 01:00:00                  0.000000\n",
       "1979-02-01 02:00:00                  0.000000\n",
       "1979-02-01 03:00:00                  0.000000\n",
       "1979-02-01 04:00:00                  0.000000\n",
       "...                                       ...\n",
       "2020-12-31 19:00:00                  0.000333\n",
       "2020-12-31 20:00:00                  0.000389\n",
       "2020-12-31 21:00:00                  0.000194\n",
       "2020-12-31 22:00:00                  0.000056\n",
       "2020-12-31 23:00:00                  0.000000\n",
       "\n",
       "[367440 rows x 1 columns]"
      ]
     },
     "execution_count": 20,
     "metadata": {},
     "output_type": "execute_result"
    }
   ],
   "source": [
    "df"
   ]
  },
  {
   "cell_type": "code",
   "execution_count": 21,
   "metadata": {},
   "outputs": [],
   "source": [
    "filepath = Path('C:/Users/ahmed/Documents/pcp_hobbyairport.csv')  \n",
    "filepath.parent.mkdir(parents=True, exist_ok=True)  \n",
    "df.to_csv(filepath)  "
   ]
  }
 ],
 "metadata": {
  "kernelspec": {
   "display_name": "Python 3",
   "language": "python",
   "name": "python3"
  },
  "language_info": {
   "codemirror_mode": {
    "name": "ipython",
    "version": 3
   },
   "file_extension": ".py",
   "mimetype": "text/x-python",
   "name": "python",
   "nbconvert_exporter": "python",
   "pygments_lexer": "ipython3",
   "version": "3.7.4"
  }
 },
 "nbformat": 4,
 "nbformat_minor": 5
}

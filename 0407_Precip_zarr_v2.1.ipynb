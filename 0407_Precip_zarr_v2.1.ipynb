{
 "cells": [
  {
   "cell_type": "code",
   "execution_count": null,
   "id": "9c076481",
   "metadata": {},
   "outputs": [],
   "source": [
    "import xarray as xr\n",
    "import fsspec\n",
    "import numpy as np\n",
    "import pandas as pd\n",
    "import matplotlib.pyplot as plt\n",
    "from dask.distributed import Client, progress\n",
    "from pathlib import Path "
   ]
  },
  {
   "cell_type": "code",
   "execution_count": null,
   "id": "a89c324e",
   "metadata": {},
   "outputs": [],
   "source": [
    "client = Client()\n",
    "client"
   ]
  },
  {
   "cell_type": "code",
   "execution_count": null,
   "id": "2507b882",
   "metadata": {},
   "outputs": [],
   "source": [
    "url = 's3://noaa-nwm-retrospective-2-1-zarr-pds/precip.zarr'"
   ]
  },
  {
   "cell_type": "code",
   "execution_count": null,
   "id": "b6eb2be8",
   "metadata": {},
   "outputs": [],
   "source": [
    "%%time\n",
    "ds = xr.open_zarr(fsspec.get_mapper(url, anon=True), consolidated=True)"
   ]
  },
  {
   "cell_type": "code",
   "execution_count": null,
   "id": "4f95d976",
   "metadata": {},
   "outputs": [],
   "source": [
    "ds"
   ]
  },
  {
   "cell_type": "code",
   "execution_count": null,
   "id": "50afdb7f",
   "metadata": {},
   "outputs": [],
   "source": [
    "## input the coordinates {y1:x1, y2:x2} or {lat1:long1, lat2:long2} format\n",
    "\n",
    "Coordinates = {3252500:277499, 3253500:277499, 3254500:277499}"
   ]
  },
  {
   "cell_type": "code",
   "execution_count": null,
   "id": "822bc0eb",
   "metadata": {
    "scrolled": true
   },
   "outputs": [],
   "source": [
    "\n",
    "t=0\n",
    "header = ''\n",
    "for k, v in Coordinates.items():\n",
    "    cord = str(k) + ',' + str(v)\n",
    "    if (t==0):\n",
    "        a = ds.RAINRATE.sel(y = k, x= v, method=\"nearest\" )\n",
    "        df = a.to_pandas()\n",
    "        df =df.to_frame()\n",
    "        df.rename(columns={0: cord}, inplace=True)\n",
    "        \n",
    "    else:\n",
    "        a1 = ds.RAINRATE.sel(y = k, x= v, method=\"nearest\" )\n",
    "        df1 = a1.to_pandas()\n",
    "        df1 =df1.to_frame()\n",
    "        df1.rename(columns={0: cord}, inplace=True)\n",
    "        \n",
    "        df= pd.merge(df, df1, suffixes=(False, False), left_index=True, right_index=True )\n",
    "    t+=1\n",
    "    "
   ]
  },
  {
   "cell_type": "code",
   "execution_count": null,
   "id": "d90e1544",
   "metadata": {},
   "outputs": [],
   "source": [
    "df"
   ]
  },
  {
   "cell_type": "code",
   "execution_count": null,
   "id": "35c49f44",
   "metadata": {},
   "outputs": [],
   "source": [
    "filepath = Path('C:/Users/ahmed/Documents/out2.csv')  \n",
    "filepath.parent.mkdir(parents=True, exist_ok=True)  \n",
    "df.to_csv(filepath)  "
   ]
  }
 ],
 "metadata": {
  "kernelspec": {
   "display_name": "Python 3 (ipykernel)",
   "language": "python",
   "name": "python3"
  },
  "language_info": {
   "codemirror_mode": {
    "name": "ipython",
    "version": 3
   },
   "file_extension": ".py",
   "mimetype": "text/x-python",
   "name": "python",
   "nbconvert_exporter": "python",
   "pygments_lexer": "ipython3",
   "version": "3.9.7"
  }
 },
 "nbformat": 4,
 "nbformat_minor": 5
}
